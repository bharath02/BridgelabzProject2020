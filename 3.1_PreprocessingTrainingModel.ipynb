{
 "cells": [
  {
   "cell_type": "code",
   "execution_count": 1,
   "metadata": {},
   "outputs": [],
   "source": [
    "import boto3\n",
    "import pandas as pd\n",
    "\n",
    "client=boto3.client('s3')"
   ]
  },
  {
   "cell_type": "code",
   "execution_count": 2,
   "metadata": {},
   "outputs": [],
   "source": [
    "with open('aws.txt')as f:\n",
    "    lines=f.read().splitlines()"
   ]
  },
  {
   "cell_type": "code",
   "execution_count": 3,
   "metadata": {},
   "outputs": [],
   "source": [
    "from boto.s3.connection import S3Connection\n",
    "conn = S3Connection(lines[0],lines[1], host='s3.ap-south-1.amazonaws.com')"
   ]
  },
  {
   "cell_type": "code",
   "execution_count": 4,
   "metadata": {},
   "outputs": [],
   "source": [
    "path='s3://historicaldata03jun2020/HistoricalQuotes.csv'\n",
    "data=pd.read_csv(path)"
   ]
  },
  {
   "cell_type": "code",
   "execution_count": 5,
   "metadata": {},
   "outputs": [
    {
     "data": {
      "text/html": [
       "<div>\n",
       "<style scoped>\n",
       "    .dataframe tbody tr th:only-of-type {\n",
       "        vertical-align: middle;\n",
       "    }\n",
       "\n",
       "    .dataframe tbody tr th {\n",
       "        vertical-align: top;\n",
       "    }\n",
       "\n",
       "    .dataframe thead th {\n",
       "        text-align: right;\n",
       "    }\n",
       "</style>\n",
       "<table border=\"1\" class=\"dataframe\">\n",
       "  <thead>\n",
       "    <tr style=\"text-align: right;\">\n",
       "      <th></th>\n",
       "      <th>Date</th>\n",
       "      <th>Close/Last</th>\n",
       "      <th>Volume</th>\n",
       "      <th>Open</th>\n",
       "      <th>High</th>\n",
       "      <th>Low</th>\n",
       "    </tr>\n",
       "  </thead>\n",
       "  <tbody>\n",
       "    <tr>\n",
       "      <th>0</th>\n",
       "      <td>06-01-20</td>\n",
       "      <td>$1,431.82</td>\n",
       "      <td>1217140</td>\n",
       "      <td>$1,418.39</td>\n",
       "      <td>$1,437.96</td>\n",
       "      <td>$1,418</td>\n",
       "    </tr>\n",
       "    <tr>\n",
       "      <th>1</th>\n",
       "      <td>05/29/2020</td>\n",
       "      <td>$1,428.92</td>\n",
       "      <td>1838059</td>\n",
       "      <td>$1,416.94</td>\n",
       "      <td>$1,432.57</td>\n",
       "      <td>$1,413.35</td>\n",
       "    </tr>\n",
       "  </tbody>\n",
       "</table>\n",
       "</div>"
      ],
      "text/plain": [
       "         Date  Close/Last   Volume        Open        High         Low\n",
       "0    06-01-20  $1,431.82   1217140  $1,418.39   $1,437.96      $1,418 \n",
       "1  05/29/2020  $1,428.92   1838059  $1,416.94   $1,432.57   $1,413.35 "
      ]
     },
     "execution_count": 5,
     "metadata": {},
     "output_type": "execute_result"
    }
   ],
   "source": [
    "data.head(2)"
   ]
  },
  {
   "cell_type": "code",
   "execution_count": 7,
   "metadata": {},
   "outputs": [],
   "source": [
    "data.rename(columns={c:c.strip() for c in data.columns.values.tolist()},inplace=True)"
   ]
  },
  {
   "cell_type": "code",
   "execution_count": 8,
   "metadata": {},
   "outputs": [
    {
     "data": {
      "text/plain": [
       "['Date', 'Close', 'Volume', 'Open', 'High', 'Low']"
      ]
     },
     "execution_count": 8,
     "metadata": {},
     "output_type": "execute_result"
    }
   ],
   "source": [
    "data.rename(columns={\"Close/Last\":\"Close\"},inplace=True)\n",
    "data.columns.tolist()"
   ]
  },
  {
   "cell_type": "code",
   "execution_count": null,
   "metadata": {},
   "outputs": [],
   "source": [
    "import numpy as np\n",
    "data['Close']=data['Close'].str.replace('\\D+','').astype(int)\n",
    "data['Open']=data['Open'].str.replace('\\D+','').astype(int)\n",
    "data['High']=data['High'].str.replace('\\D+','').astype(int)\n",
    "data['Low']=data['Low'].str.replace('\\D+','').astype(int)\n",
    "print(data.head(2))"
   ]
  },
  {
   "cell_type": "code",
   "execution_count": 22,
   "metadata": {},
   "outputs": [
    {
     "name": "stdout",
     "output_type": "stream",
     "text": [
      "Date      object\n",
      "Close      int64\n",
      "Volume     int64\n",
      "Open       int64\n",
      "High       int64\n",
      "Low        int64\n",
      "dtype: object\n"
     ]
    }
   ],
   "source": [
    "print(data.dtypes)"
   ]
  },
  {
   "cell_type": "code",
   "execution_count": null,
   "metadata": {},
   "outputs": [],
   "source": []
  },
  {
   "cell_type": "code",
   "execution_count": null,
   "metadata": {},
   "outputs": [],
   "source": []
  },
  {
   "cell_type": "code",
   "execution_count": 23,
   "metadata": {},
   "outputs": [],
   "source": [
    "from pyspark import SparkConf, SparkContext\n",
    "from pyspark.sql import SQLContext\n",
    "from pyspark.sql import SparkSession"
   ]
  },
  {
   "cell_type": "code",
   "execution_count": 25,
   "metadata": {},
   "outputs": [],
   "source": [
    "sc.stop()"
   ]
  },
  {
   "cell_type": "code",
   "execution_count": 26,
   "metadata": {},
   "outputs": [],
   "source": [
    "sc=SparkContext()\n",
    "spark=SparkSession(sc)\n",
    "stockData=spark.createDataFrame(data)"
   ]
  },
  {
   "cell_type": "code",
   "execution_count": 27,
   "metadata": {},
   "outputs": [
    {
     "data": {
      "text/plain": [
       "[Row(Date='06-01-20', Close=143182, Volume=1217140, Open=141839, High=143796, Low=1418),\n",
       " Row(Date='05/29/2020', Close=142892, Volume=1838059, Open=141694, High=143257, Low=141335),\n",
       " Row(Date='05/28/2020', Close=141673, Volume=1693976, Open=139686, High=144084, Low=1396),\n",
       " Row(Date='05/27/2020', Close=141784, Volume=1686142, Open=141725, High=142174, Low=139129),\n",
       " Row(Date='05/26/2020', Close=141702, Volume=2060643, Open=143727, High=1441, Low=141213)]"
      ]
     },
     "execution_count": 27,
     "metadata": {},
     "output_type": "execute_result"
    }
   ],
   "source": [
    "stockData.take(5)"
   ]
  },
  {
   "cell_type": "code",
   "execution_count": 28,
   "metadata": {},
   "outputs": [
    {
     "data": {
      "text/plain": [
       "DataFrame[Date: string, Close: bigint, Volume: bigint, Open: bigint, High: bigint, Low: bigint]"
      ]
     },
     "execution_count": 28,
     "metadata": {},
     "output_type": "execute_result"
    }
   ],
   "source": [
    "stockData.cache()"
   ]
  },
  {
   "cell_type": "code",
   "execution_count": 30,
   "metadata": {},
   "outputs": [
    {
     "data": {
      "text/html": [
       "<div>\n",
       "<style scoped>\n",
       "    .dataframe tbody tr th:only-of-type {\n",
       "        vertical-align: middle;\n",
       "    }\n",
       "\n",
       "    .dataframe tbody tr th {\n",
       "        vertical-align: top;\n",
       "    }\n",
       "\n",
       "    .dataframe thead th {\n",
       "        text-align: right;\n",
       "    }\n",
       "</style>\n",
       "<table border=\"1\" class=\"dataframe\">\n",
       "  <thead>\n",
       "    <tr style=\"text-align: right;\">\n",
       "      <th></th>\n",
       "      <th>0</th>\n",
       "      <th>1</th>\n",
       "      <th>2</th>\n",
       "      <th>3</th>\n",
       "      <th>4</th>\n",
       "    </tr>\n",
       "  </thead>\n",
       "  <tbody>\n",
       "    <tr>\n",
       "      <th>summary</th>\n",
       "      <td>count</td>\n",
       "      <td>mean</td>\n",
       "      <td>stddev</td>\n",
       "      <td>min</td>\n",
       "      <td>max</td>\n",
       "    </tr>\n",
       "    <tr>\n",
       "      <th>Date</th>\n",
       "      <td>1259</td>\n",
       "      <td>None</td>\n",
       "      <td>None</td>\n",
       "      <td>01-02-18</td>\n",
       "      <td>12/31/2019</td>\n",
       "    </tr>\n",
       "    <tr>\n",
       "      <th>Close</th>\n",
       "      <td>1259</td>\n",
       "      <td>95773.87609213662</td>\n",
       "      <td>27017.787420701774</td>\n",
       "      <td>628</td>\n",
       "      <td>152669</td>\n",
       "    </tr>\n",
       "    <tr>\n",
       "      <th>Volume</th>\n",
       "      <td>1259</td>\n",
       "      <td>1716753.3145353454</td>\n",
       "      <td>860209.0458188738</td>\n",
       "      <td>347518</td>\n",
       "      <td>11153500</td>\n",
       "    </tr>\n",
       "    <tr>\n",
       "      <th>Open</th>\n",
       "      <td>1259</td>\n",
       "      <td>83529.77839555203</td>\n",
       "      <td>40008.59048192892</td>\n",
       "      <td>528</td>\n",
       "      <td>152507</td>\n",
       "    </tr>\n",
       "    <tr>\n",
       "      <th>High</th>\n",
       "      <td>1259</td>\n",
       "      <td>90095.80063542494</td>\n",
       "      <td>35307.13089109199</td>\n",
       "      <td>540</td>\n",
       "      <td>153211</td>\n",
       "    </tr>\n",
       "    <tr>\n",
       "      <th>Low</th>\n",
       "      <td>1259</td>\n",
       "      <td>88408.50754567116</td>\n",
       "      <td>35033.04109303526</td>\n",
       "      <td>519</td>\n",
       "      <td>152140</td>\n",
       "    </tr>\n",
       "  </tbody>\n",
       "</table>\n",
       "</div>"
      ],
      "text/plain": [
       "             0                   1                   2         3           4\n",
       "summary  count                mean              stddev       min         max\n",
       "Date      1259                None                None  01-02-18  12/31/2019\n",
       "Close     1259   95773.87609213662  27017.787420701774       628      152669\n",
       "Volume    1259  1716753.3145353454   860209.0458188738    347518    11153500\n",
       "Open      1259   83529.77839555203   40008.59048192892       528      152507\n",
       "High      1259   90095.80063542494   35307.13089109199       540      153211\n",
       "Low       1259   88408.50754567116   35033.04109303526       519      152140"
      ]
     },
     "execution_count": 30,
     "metadata": {},
     "output_type": "execute_result"
    }
   ],
   "source": [
    "stockData=stockData.withColumn('Date',stockData['Date'].cast('string'))\n",
    "stockData.describe().toPandas().transpose()"
   ]
  },
  {
   "cell_type": "code",
   "execution_count": 32,
   "metadata": {},
   "outputs": [
    {
     "name": "stdout",
     "output_type": "stream",
     "text": [
      "+------+------+------+------+\n",
      "|  Open|  High|   Low| Close|\n",
      "+------+------+------+------+\n",
      "|141839|143796|  1418|143182|\n",
      "|141694|143257|141335|142892|\n",
      "|139686|144084|  1396|141673|\n",
      "|141725|142174|139129|141784|\n",
      "|143727|  1441|141213|141702|\n",
      "+------+------+------+------+\n",
      "only showing top 5 rows\n",
      "\n"
     ]
    }
   ],
   "source": [
    "trainData=stockData.select(['Open','High','Low','Close'])\n",
    "trainData.show(5)"
   ]
  },
  {
   "cell_type": "markdown",
   "metadata": {},
   "source": [
    "# Transformation"
   ]
  },
  {
   "cell_type": "code",
   "execution_count": 34,
   "metadata": {},
   "outputs": [],
   "source": [
    "from pyspark.ml.feature import VectorAssembler\n",
    "VectorAssembler = VectorAssembler(inputCols=['Open','High','Low'],outputCol='features')"
   ]
  },
  {
   "cell_type": "code",
   "execution_count": 35,
   "metadata": {},
   "outputs": [
    {
     "name": "stdout",
     "output_type": "stream",
     "text": [
      "+--------------------+------+\n",
      "|            features| Close|\n",
      "+--------------------+------+\n",
      "|[141839.0,143796....|143182|\n",
      "|[141694.0,143257....|142892|\n",
      "|[139686.0,144084....|141673|\n",
      "|[141725.0,142174....|141784|\n",
      "|[143727.0,1441.0,...|141702|\n",
      "|[139671.0,141276....|141042|\n",
      "|[1408.0,141549.0,...|140280|\n",
      "|[138958.0,141042....|140672|\n",
      "|[138700.0,1392.0,...|137349|\n",
      "|[136175.0,139233....|138394|\n",
      "|[1350.0,137448.0,...|137319|\n",
      "|[133502.0,135742....|135613|\n",
      "|[137705.0,138548....|134933|\n",
      "|[140712.0,1415.0,...|137574|\n",
      "|[137828.0,141653....|140326|\n",
      "|[138313.0,139876....|138837|\n",
      "|[136594.0,137760....|137256|\n",
      "|[136169.0,137112....|134730|\n",
      "|[133792.0,137394....|135111|\n",
      "|[130823.0,132766....|132680|\n",
      "+--------------------+------+\n",
      "only showing top 20 rows\n",
      "\n"
     ]
    }
   ],
   "source": [
    "VectorDataFrame=VectorAssembler.transform(trainData)\n",
    "VectorDataFrame=VectorDataFrame.select(['features','Close'])\n",
    "VectorDataFrame.show()"
   ]
  },
  {
   "cell_type": "code",
   "execution_count": 36,
   "metadata": {},
   "outputs": [],
   "source": [
    "from pyspark.ml.regression import LinearRegression\n",
    "LinearRegression=LinearRegression(featuresCol='features',labelCol='Close',maxIter=10,regParam=0.3,elasticNetParam=0.8)"
   ]
  },
  {
   "cell_type": "code",
   "execution_count": 37,
   "metadata": {},
   "outputs": [],
   "source": [
    "model=LinearRegression.fit(VectorDataFrame)"
   ]
  },
  {
   "cell_type": "code",
   "execution_count": 39,
   "metadata": {},
   "outputs": [],
   "source": [
    "SplitsTraingTesting=VectorDataFrame.randomSplit([0.7,0.3])\n",
    "testDataframe=SplitsTraingTesting[1]"
   ]
  },
  {
   "cell_type": "code",
   "execution_count": 40,
   "metadata": {},
   "outputs": [],
   "source": [
    "Prediction=model.transform(testDataframe)"
   ]
  },
  {
   "cell_type": "code",
   "execution_count": 41,
   "metadata": {},
   "outputs": [
    {
     "name": "stdout",
     "output_type": "stream",
     "text": [
      "+------------------+-----+--------------------+\n",
      "|        Prediction|Close|            features|\n",
      "+------------------+-----+--------------------+\n",
      "| 54027.72396981865|52720|[528.0,52830.0,52...|\n",
      "| 71878.95696091943|60070|[600.0,60347.0,59...|\n",
      "|   73450.432998404|63259|[630.0,63522.0,62...|\n",
      "| 57134.14577428863|64147|[632.0,64301.0,62...|\n",
      "| 74095.62906886946|64361|[640.0,64599.0,63...|\n",
      "| 73811.13889703371|62356|[647.0,64817.0,62...|\n",
      "| 76159.30922852141|68311|[675.0,68935.0,66...|\n",
      "| 77506.87541975155|69735|[710.0,71235.0,69...|\n",
      "| 81469.88150246203|77686|[779.0,78048.0,77...|\n",
      "| 81547.87970051795|78035|[780.0,78273.0,77...|\n",
      "|  81802.7826182264|78929|[780.0,78943.0,77...|\n",
      "| 61381.18956780512|79937|[795.0,79950.0,79...|\n",
      "| 83585.34895100097|81758|[821.0,82257.0,81...|\n",
      "| 85117.97185977698|84554|[844.0,84869.0,84...|\n",
      "|64280.255679924885|90666|[910.0,913.0,9034...|\n",
      "| 89411.52232807846|93024|[921.0,93317.0,91...|\n",
      "|65259.122102196685|94049|[929.0,94275.0,91...|\n",
      "| 89638.91271308047|93245|[933.0,93653.0,92...|\n",
      "| 91005.80914898927|95911|[952.0,95979.0,95...|\n",
      "|  91000.3475673451|95168|[957.0,96039.0,95...|\n",
      "+------------------+-----+--------------------+\n",
      "only showing top 20 rows\n",
      "\n"
     ]
    }
   ],
   "source": [
    "Prediction.select(\"Prediction\",\"Close\",\"features\").show()"
   ]
  },
  {
   "cell_type": "code",
   "execution_count": 51,
   "metadata": {},
   "outputs": [
    {
     "name": "stdout",
     "output_type": "stream",
     "text": [
      "DataFrame[features: vector, Close: bigint, prediction: double]\n"
     ]
    }
   ],
   "source": [
    "from pyspark.ml.evaluation import RegressionEvaluator\n",
    "modelEvaluator=RegressionEvaluator(predictionCol='Prediction',labelCol='Close',metricName='r2')\n",
    "print(Prediction)"
   ]
  },
  {
   "cell_type": "code",
   "execution_count": 53,
   "metadata": {},
   "outputs": [
    {
     "name": "stdout",
     "output_type": "stream",
     "text": [
      "coefficients : [0.09870969657180231,0.26750198380557855,0.26835669701667886]\n",
      "Intercept  : 39702.856536343286\n",
      "RMSE: 20945.434072\n",
      "r2: 0.398516\n"
     ]
    }
   ],
   "source": [
    "print(\"coefficients : \"+ str(model.coefficients))\n",
    "print(\"Intercept  : \"+ str(model.intercept))\n",
    "\n",
    "trainingSummary=model.summary\n",
    "print(\"RMSE: %f\"%trainingSummary.rootMeanSquaredError)\n",
    "print(\"r2: %f\" % trainingSummary.r2)"
   ]
  },
  {
   "cell_type": "code",
   "execution_count": null,
   "metadata": {},
   "outputs": [],
   "source": [
    "import sys\n",
    "model.save()"
   ]
  }
 ],
 "metadata": {
  "kernelspec": {
   "display_name": "Python 3",
   "language": "python",
   "name": "python3"
  },
  "language_info": {
   "codemirror_mode": {
    "name": "ipython",
    "version": 3
   },
   "file_extension": ".py",
   "mimetype": "text/x-python",
   "name": "python",
   "nbconvert_exporter": "python",
   "pygments_lexer": "ipython3",
   "version": "3.6.9"
  }
 },
 "nbformat": 4,
 "nbformat_minor": 4
}
