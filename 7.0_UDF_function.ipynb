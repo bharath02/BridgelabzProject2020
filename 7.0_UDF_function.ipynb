{
 "cells": [
  {
   "cell_type": "code",
   "execution_count": 1,
   "metadata": {},
   "outputs": [],
   "source": [
    "from pyspark import SparkConf, SparkContext\n",
    "from pyspark.sql import SparkSession\n",
    "from pyspark.sql.types import DoubleType, StringType\n",
    "from pyspark.sql.functions import udf, col"
   ]
  },
  {
   "cell_type": "code",
   "execution_count": 3,
   "metadata": {},
   "outputs": [
    {
     "name": "stdout",
     "output_type": "stream",
     "text": [
      "<SparkContext master=local[*] appName=pyspark-shell>\n"
     ]
    }
   ],
   "source": [
    "sc = SparkContext.getOrCreate()\n",
    "sql=SparkSession(sc)\n",
    "print(sc)"
   ]
  },
  {
   "cell_type": "code",
   "execution_count": 5,
   "metadata": {},
   "outputs": [
    {
     "name": "stdout",
     "output_type": "stream",
     "text": [
      "+----------+-----------+-------+----------+----------+----------+\n",
      "|      Date| Close/Last| Volume|      Open|      High|       Low|\n",
      "+----------+-----------+-------+----------+----------+----------+\n",
      "|  06-01-20| $1,431.82 |1217140|$1,418.39 |$1,437.96 |   $1,418 |\n",
      "|05/29/2020| $1,428.92 |1838059|$1,416.94 |$1,432.57 |$1,413.35 |\n",
      "|05/28/2020| $1,416.73 |1693976|$1,396.86 |$1,440.84 |   $1,396 |\n",
      "|05/27/2020| $1,417.84 |1686142|$1,417.25 |$1,421.74 |$1,391.29 |\n",
      "|05/26/2020| $1,417.02 |2060643|$1,437.27 |   $1,441 |$1,412.13 |\n",
      "+----------+-----------+-------+----------+----------+----------+\n",
      "only showing top 5 rows\n",
      "\n"
     ]
    }
   ],
   "source": [
    "data=sql.read.csv('HistoricalQuotes.csv',header=True)\n",
    "data.show(5)"
   ]
  },
  {
   "cell_type": "code",
   "execution_count": 6,
   "metadata": {},
   "outputs": [],
   "source": [
    "def clear_string(value : str) -> str:\n",
    "    value = value.replace('$', '')\n",
    "    return float(value)\n",
    "clear_string_udf = udf(lambda value: clear_string(value), DoubleType())"
   ]
  },
  {
   "cell_type": "code",
   "execution_count": 7,
   "metadata": {},
   "outputs": [
    {
     "name": "stdout",
     "output_type": "stream",
     "text": [
      "root\n",
      " |-- Date: string (nullable = true)\n",
      " |--  Close/Last: string (nullable = true)\n",
      " |--  Volume: string (nullable = true)\n",
      " |--  Open: string (nullable = true)\n",
      " |--  High: string (nullable = true)\n",
      " |--  Low: string (nullable = true)\n",
      "\n"
     ]
    }
   ],
   "source": [
    "data.printSchema()"
   ]
  },
  {
   "cell_type": "code",
   "execution_count": 10,
   "metadata": {},
   "outputs": [],
   "source": [
    "data= data.withColumn(\"Date\", data[\"Date\"].cast(\"string\")\n",
    "                                        ).withColumn(\" Close/Last\", clear_string_udf(col(\" Close/Last\"))\n",
    "                                        ).withColumn(\" Volume\", clear_string_udf(col(\" Volume\"))\n",
    "                                        ).withColumn(\" Open\", clear_string_udf(col(\" Open\"))\n",
    "                                        ).withColumn(\" High\", clear_string_udf(col(\" High\"))\n",
    "                                        ).withColumn(\" Low\", clear_string_udf(col(\" Low\")))"
   ]
  },
  {
   "cell_type": "code",
   "execution_count": 11,
   "metadata": {},
   "outputs": [
    {
     "name": "stdout",
     "output_type": "stream",
     "text": [
      "root\n",
      " |-- Date: string (nullable = true)\n",
      " |--  Close/Last: double (nullable = true)\n",
      " |--  Volume: double (nullable = true)\n",
      " |--  Open: double (nullable = true)\n",
      " |--  High: double (nullable = true)\n",
      " |--  Low: double (nullable = true)\n",
      "\n"
     ]
    }
   ],
   "source": [
    "data.printSchema()"
   ]
  }
 ],
 "metadata": {
  "kernelspec": {
   "display_name": "Python 3",
   "language": "python",
   "name": "python3"
  },
  "language_info": {
   "codemirror_mode": {
    "name": "ipython",
    "version": 3
   },
   "file_extension": ".py",
   "mimetype": "text/x-python",
   "name": "python",
   "nbconvert_exporter": "python",
   "pygments_lexer": "ipython3",
   "version": "3.6.9"
  }
 },
 "nbformat": 4,
 "nbformat_minor": 4
}
