{
 "cells": [
  {
   "cell_type": "code",
   "execution_count": 1,
   "metadata": {},
   "outputs": [],
   "source": [
    "import boto3\n",
    "client=boto3.client('s3')"
   ]
  },
  {
   "cell_type": "code",
   "execution_count": 2,
   "metadata": {},
   "outputs": [],
   "source": [
    "path='s3://mys3bucket03jun2020/HistoricalQuotes.csv'"
   ]
  },
  {
   "cell_type": "code",
   "execution_count": 3,
   "metadata": {},
   "outputs": [],
   "source": [
    "import pandas as pd\n",
    "histQuotes=pd.read_csv(path)"
   ]
  },
  {
   "cell_type": "code",
   "execution_count": 4,
   "metadata": {},
   "outputs": [
    {
     "data": {
      "text/html": [
       "<div>\n",
       "<style scoped>\n",
       "    .dataframe tbody tr th:only-of-type {\n",
       "        vertical-align: middle;\n",
       "    }\n",
       "\n",
       "    .dataframe tbody tr th {\n",
       "        vertical-align: top;\n",
       "    }\n",
       "\n",
       "    .dataframe thead th {\n",
       "        text-align: right;\n",
       "    }\n",
       "</style>\n",
       "<table border=\"1\" class=\"dataframe\">\n",
       "  <thead>\n",
       "    <tr style=\"text-align: right;\">\n",
       "      <th></th>\n",
       "      <th>Date</th>\n",
       "      <th>Close/Last</th>\n",
       "      <th>Volume</th>\n",
       "      <th>Open</th>\n",
       "      <th>High</th>\n",
       "      <th>Low</th>\n",
       "    </tr>\n",
       "  </thead>\n",
       "  <tbody>\n",
       "    <tr>\n",
       "      <th>0</th>\n",
       "      <td>06-01-20</td>\n",
       "      <td>$1,431.82</td>\n",
       "      <td>1217140</td>\n",
       "      <td>$1,418.39</td>\n",
       "      <td>$1,437.96</td>\n",
       "      <td>$1,418</td>\n",
       "    </tr>\n",
       "    <tr>\n",
       "      <th>1</th>\n",
       "      <td>05/29/2020</td>\n",
       "      <td>$1,428.92</td>\n",
       "      <td>1838059</td>\n",
       "      <td>$1,416.94</td>\n",
       "      <td>$1,432.57</td>\n",
       "      <td>$1,413.35</td>\n",
       "    </tr>\n",
       "    <tr>\n",
       "      <th>2</th>\n",
       "      <td>05/28/2020</td>\n",
       "      <td>$1,416.73</td>\n",
       "      <td>1693976</td>\n",
       "      <td>$1,396.86</td>\n",
       "      <td>$1,440.84</td>\n",
       "      <td>$1,396</td>\n",
       "    </tr>\n",
       "    <tr>\n",
       "      <th>3</th>\n",
       "      <td>05/27/2020</td>\n",
       "      <td>$1,417.84</td>\n",
       "      <td>1686142</td>\n",
       "      <td>$1,417.25</td>\n",
       "      <td>$1,421.74</td>\n",
       "      <td>$1,391.29</td>\n",
       "    </tr>\n",
       "    <tr>\n",
       "      <th>4</th>\n",
       "      <td>05/26/2020</td>\n",
       "      <td>$1,417.02</td>\n",
       "      <td>2060643</td>\n",
       "      <td>$1,437.27</td>\n",
       "      <td>$1,441</td>\n",
       "      <td>$1,412.13</td>\n",
       "    </tr>\n",
       "  </tbody>\n",
       "</table>\n",
       "</div>"
      ],
      "text/plain": [
       "         Date  Close/Last   Volume        Open        High         Low\n",
       "0    06-01-20  $1,431.82   1217140  $1,418.39   $1,437.96      $1,418 \n",
       "1  05/29/2020  $1,428.92   1838059  $1,416.94   $1,432.57   $1,413.35 \n",
       "2  05/28/2020  $1,416.73   1693976  $1,396.86   $1,440.84      $1,396 \n",
       "3  05/27/2020  $1,417.84   1686142  $1,417.25   $1,421.74   $1,391.29 \n",
       "4  05/26/2020  $1,417.02   2060643  $1,437.27      $1,441   $1,412.13 "
      ]
     },
     "execution_count": 4,
     "metadata": {},
     "output_type": "execute_result"
    }
   ],
   "source": [
    "histQuotes.head(5)"
   ]
  }
 ],
 "metadata": {
  "kernelspec": {
   "display_name": "Python 3",
   "language": "python",
   "name": "python3"
  },
  "language_info": {
   "codemirror_mode": {
    "name": "ipython",
    "version": 3
   },
   "file_extension": ".py",
   "mimetype": "text/x-python",
   "name": "python",
   "nbconvert_exporter": "python",
   "pygments_lexer": "ipython3",
   "version": "3.6.9"
  }
 },
 "nbformat": 4,
 "nbformat_minor": 4
}
